{
  "nbformat": 4,
  "nbformat_minor": 0,
  "metadata": {
    "colab": {
      "name": "panda/numpy.ipynb",
      "provenance": []
    },
    "kernelspec": {
      "name": "python3",
      "display_name": "Python 3"
    },
    "language_info": {
      "name": "python"
    }
  },
  "cells": [
    {
      "cell_type": "markdown",
      "metadata": {
        "id": "hAnLTKEx-wda"
      },
      "source": [
        "Data taking from Physics 391 Lab 3 Photoelectric effect"
      ]
    },
    {
      "cell_type": "code",
      "metadata": {
        "id": "4IEbzPAq1TZO",
        "colab": {
          "base_uri": "https://localhost:8080/"
        },
        "outputId": "338f36db-1b11-4e36-fd9f-ed56e98482ef"
      },
      "source": [
        "from google.colab import drive\n",
        "#drive.mount('/content/drive')\n",
        "drive.mount(\"/content/drive\", force_remount=True)"
      ],
      "execution_count": null,
      "outputs": [
        {
          "output_type": "stream",
          "name": "stdout",
          "text": [
            "Mounted at /content/drive\n"
          ]
        }
      ]
    },
    {
      "cell_type": "code",
      "metadata": {
        "colab": {
          "base_uri": "https://localhost:8080/"
        },
        "id": "B_ArE3A84d7d",
        "outputId": "dce4a07c-08ea-4612-ead1-d38a0d9c487d"
      },
      "source": [
        "import os            ##  This module is for \"operating system\" interfaces\n",
        "import sys           ##  This module is for functionality relevant to the python run time\n",
        "\n",
        "GOOGLE_PATH_AFTER_MYDRIVE = 'third semester/M hackers'\n",
        "GOOGLE_DRIVE_PATH = os.path.join('drive','My Drive', GOOGLE_PATH_AFTER_MYDRIVE)\n",
        "print(os.listdir(GOOGLE_DRIVE_PATH))\n",
        "\n",
        "# Append the directory path of this notebook to what python easily \"sees\"\n",
        "sys.path.append(GOOGLE_DRIVE_PATH)\n",
        "\n",
        "# Make your current working directory the directory path of this notebookand data \n",
        "\n",
        "os.chdir(GOOGLE_DRIVE_PATH) "
      ],
      "execution_count": null,
      "outputs": [
        {
          "output_type": "stream",
          "name": "stdout",
          "text": [
            "['panda numpy.ipynb', 'Project 1.0.gslides', 'Assi.gdoc', 'classification.ipynb', 'Copy of violet.gsheet', 'data']\n"
          ]
        }
      ]
    },
    {
      "cell_type": "markdown",
      "metadata": {
        "id": "8uy9NgBl5xWD"
      },
      "source": [
        "**We wish to import the libraries**"
      ]
    },
    {
      "cell_type": "code",
      "metadata": {
        "id": "ee-ZKvPP5wk9"
      },
      "source": [
        "import numpy as np                         # np is the alias we can now use to access any tool in numpy\n",
        "from matplotlib import pyplot as plt       # here, we only need the pyplot module from the library (with alias plt)\n",
        "import pandas as pd\n",
        "import scipy.optimize as opt               # this is needed for chi-squared minimization"
      ],
      "execution_count": null,
      "outputs": []
    },
    {
      "cell_type": "markdown",
      "metadata": {
        "id": "9gQsslDt4po2"
      },
      "source": [
        "**We want to read in Violet.csv**\n",
        "\n"
      ]
    },
    {
      "cell_type": "code",
      "metadata": {
        "id": "guDgNtKr4kEv",
        "colab": {
          "base_uri": "https://localhost:8080/",
          "height": 801
        },
        "outputId": "7753e6b9-bf4d-4f99-f075-ca20e40b802a"
      },
      "source": [
        "pd.read_csv('data/violet.csv')"
      ],
      "execution_count": null,
      "outputs": [
        {
          "output_type": "execute_result",
          "data": {
            "text/html": [
              "<div>\n",
              "<style scoped>\n",
              "    .dataframe tbody tr th:only-of-type {\n",
              "        vertical-align: middle;\n",
              "    }\n",
              "\n",
              "    .dataframe tbody tr th {\n",
              "        vertical-align: top;\n",
              "    }\n",
              "\n",
              "    .dataframe thead th {\n",
              "        text-align: right;\n",
              "    }\n",
              "</style>\n",
              "<table border=\"1\" class=\"dataframe\">\n",
              "  <thead>\n",
              "    <tr style=\"text-align: right;\">\n",
              "      <th></th>\n",
              "      <th>V_cathode</th>\n",
              "      <th>V_anode (d=0) [mV]</th>\n",
              "      <th>V_anode (d=0.3)</th>\n",
              "    </tr>\n",
              "  </thead>\n",
              "  <tbody>\n",
              "    <tr>\n",
              "      <th>0</th>\n",
              "      <td>0.1</td>\n",
              "      <td>-52.563</td>\n",
              "      <td>-19.9820</td>\n",
              "    </tr>\n",
              "    <tr>\n",
              "      <th>1</th>\n",
              "      <td>0.2</td>\n",
              "      <td>-47.372</td>\n",
              "      <td>-18.0170</td>\n",
              "    </tr>\n",
              "    <tr>\n",
              "      <th>2</th>\n",
              "      <td>0.3</td>\n",
              "      <td>-41.547</td>\n",
              "      <td>-15.7900</td>\n",
              "    </tr>\n",
              "    <tr>\n",
              "      <th>3</th>\n",
              "      <td>0.4</td>\n",
              "      <td>-35.122</td>\n",
              "      <td>-13.3480</td>\n",
              "    </tr>\n",
              "    <tr>\n",
              "      <th>4</th>\n",
              "      <td>0.5</td>\n",
              "      <td>-28.828</td>\n",
              "      <td>-10.8510</td>\n",
              "    </tr>\n",
              "    <tr>\n",
              "      <th>5</th>\n",
              "      <td>0.6</td>\n",
              "      <td>-22.795</td>\n",
              "      <td>-8.5270</td>\n",
              "    </tr>\n",
              "    <tr>\n",
              "      <th>6</th>\n",
              "      <td>0.7</td>\n",
              "      <td>17.164</td>\n",
              "      <td>-6.3650</td>\n",
              "    </tr>\n",
              "    <tr>\n",
              "      <th>7</th>\n",
              "      <td>0.8</td>\n",
              "      <td>-11.949</td>\n",
              "      <td>-4.3930</td>\n",
              "    </tr>\n",
              "    <tr>\n",
              "      <th>8</th>\n",
              "      <td>0.9</td>\n",
              "      <td>-7.417</td>\n",
              "      <td>-2.7080</td>\n",
              "    </tr>\n",
              "    <tr>\n",
              "      <th>9</th>\n",
              "      <td>1.0</td>\n",
              "      <td>-3.840</td>\n",
              "      <td>-1.4001</td>\n",
              "    </tr>\n",
              "    <tr>\n",
              "      <th>10</th>\n",
              "      <td>1.1</td>\n",
              "      <td>-1.454</td>\n",
              "      <td>-0.5320</td>\n",
              "    </tr>\n",
              "    <tr>\n",
              "      <th>11</th>\n",
              "      <td>1.2</td>\n",
              "      <td>-0.120</td>\n",
              "      <td>-0.0590</td>\n",
              "    </tr>\n",
              "    <tr>\n",
              "      <th>12</th>\n",
              "      <td>1.3</td>\n",
              "      <td>0.443</td>\n",
              "      <td>0.0141</td>\n",
              "    </tr>\n",
              "    <tr>\n",
              "      <th>13</th>\n",
              "      <td>1.4</td>\n",
              "      <td>0.633</td>\n",
              "      <td>0.2070</td>\n",
              "    </tr>\n",
              "    <tr>\n",
              "      <th>14</th>\n",
              "      <td>1.5</td>\n",
              "      <td>0.701</td>\n",
              "      <td>0.2310</td>\n",
              "    </tr>\n",
              "    <tr>\n",
              "      <th>15</th>\n",
              "      <td>1.6</td>\n",
              "      <td>0.742</td>\n",
              "      <td>0.2450</td>\n",
              "    </tr>\n",
              "    <tr>\n",
              "      <th>16</th>\n",
              "      <td>1.7</td>\n",
              "      <td>0.773</td>\n",
              "      <td>0.2560</td>\n",
              "    </tr>\n",
              "    <tr>\n",
              "      <th>17</th>\n",
              "      <td>1.8</td>\n",
              "      <td>0.798</td>\n",
              "      <td>0.2650</td>\n",
              "    </tr>\n",
              "    <tr>\n",
              "      <th>18</th>\n",
              "      <td>1.9</td>\n",
              "      <td>0.818</td>\n",
              "      <td>0.2710</td>\n",
              "    </tr>\n",
              "    <tr>\n",
              "      <th>19</th>\n",
              "      <td>2.0</td>\n",
              "      <td>0.835</td>\n",
              "      <td>0.2770</td>\n",
              "    </tr>\n",
              "    <tr>\n",
              "      <th>20</th>\n",
              "      <td>2.1</td>\n",
              "      <td>0.849</td>\n",
              "      <td>0.2820</td>\n",
              "    </tr>\n",
              "    <tr>\n",
              "      <th>21</th>\n",
              "      <td>2.2</td>\n",
              "      <td>0.860</td>\n",
              "      <td>0.2850</td>\n",
              "    </tr>\n",
              "    <tr>\n",
              "      <th>22</th>\n",
              "      <td>2.3</td>\n",
              "      <td>0.870</td>\n",
              "      <td>0.2880</td>\n",
              "    </tr>\n",
              "    <tr>\n",
              "      <th>23</th>\n",
              "      <td>2.4</td>\n",
              "      <td>0.878</td>\n",
              "      <td>0.2910</td>\n",
              "    </tr>\n",
              "  </tbody>\n",
              "</table>\n",
              "</div>"
            ],
            "text/plain": [
              "    V_cathode  V_anode (d=0) [mV]  V_anode (d=0.3)\n",
              "0         0.1             -52.563         -19.9820\n",
              "1         0.2             -47.372         -18.0170\n",
              "2         0.3             -41.547         -15.7900\n",
              "3         0.4             -35.122         -13.3480\n",
              "4         0.5             -28.828         -10.8510\n",
              "5         0.6             -22.795          -8.5270\n",
              "6         0.7              17.164          -6.3650\n",
              "7         0.8             -11.949          -4.3930\n",
              "8         0.9              -7.417          -2.7080\n",
              "9         1.0              -3.840          -1.4001\n",
              "10        1.1              -1.454          -0.5320\n",
              "11        1.2              -0.120          -0.0590\n",
              "12        1.3               0.443           0.0141\n",
              "13        1.4               0.633           0.2070\n",
              "14        1.5               0.701           0.2310\n",
              "15        1.6               0.742           0.2450\n",
              "16        1.7               0.773           0.2560\n",
              "17        1.8               0.798           0.2650\n",
              "18        1.9               0.818           0.2710\n",
              "19        2.0               0.835           0.2770\n",
              "20        2.1               0.849           0.2820\n",
              "21        2.2               0.860           0.2850\n",
              "22        2.3               0.870           0.2880\n",
              "23        2.4               0.878           0.2910"
            ]
          },
          "metadata": {},
          "execution_count": 4
        }
      ]
    },
    {
      "cell_type": "markdown",
      "metadata": {
        "id": "pY6OVhFL5fQH"
      },
      "source": [
        "**We wish to change to colmns of Violet,  firstly, change the read in input of the datas to under 2 for V_cathode. How do we do all these if we have messy data?**"
      ]
    },
    {
      "cell_type": "code",
      "metadata": {
        "id": "QimlNPwG6gfl"
      },
      "source": [
        "all = pd.read_csv('data/Data - Sheet1.csv')"
      ],
      "execution_count": null,
      "outputs": []
    },
    {
      "cell_type": "code",
      "metadata": {
        "id": "TznWF_0W8Efu"
      },
      "source": [
        "Violet = -1*pd.read_csv('data/Data - Sheet1.csv',header = None, usecols=[8,9,10], skiprows = 2, nrows=(24), names =['V_cathode','V_anode (d=0)','V_anode (d=0.3)'])"
      ],
      "execution_count": null,
      "outputs": []
    },
    {
      "cell_type": "code",
      "metadata": {
        "colab": {
          "base_uri": "https://localhost:8080/"
        },
        "id": "DsZvhIAC8y2F",
        "outputId": "b2c41a39-dd7d-4406-aec8-72d0a1f87afe"
      },
      "source": [
        "Violet['V_cathode']"
      ],
      "execution_count": null,
      "outputs": [
        {
          "output_type": "execute_result",
          "data": {
            "text/plain": [
              "0    -0.1\n",
              "1    -0.2\n",
              "2    -0.3\n",
              "3    -0.4\n",
              "4    -0.5\n",
              "5    -0.6\n",
              "6    -0.7\n",
              "7    -0.8\n",
              "8    -0.9\n",
              "9    -1.0\n",
              "10   -1.1\n",
              "11   -1.2\n",
              "12   -1.3\n",
              "13   -1.4\n",
              "14   -1.5\n",
              "15   -1.6\n",
              "16   -1.7\n",
              "17   -1.8\n",
              "18   -1.9\n",
              "19   -2.0\n",
              "20   -2.1\n",
              "21   -2.2\n",
              "22   -2.3\n",
              "23   -2.4\n",
              "Name: V_cathode, dtype: float64"
            ]
          },
          "metadata": {},
          "execution_count": 34
        }
      ]
    },
    {
      "cell_type": "markdown",
      "metadata": {
        "id": "NE5fVpEQ5WxP"
      },
      "source": [
        "**We wish to visualize the data**"
      ]
    },
    {
      "cell_type": "code",
      "metadata": {
        "colab": {
          "base_uri": "https://localhost:8080/",
          "height": 283
        },
        "id": "JSOzPU845cEm",
        "outputId": "efd89b37-26f3-4f76-d247-7f16f0feee08"
      },
      "source": [
        "Violet['V_cathode'] = -Violet['V_cathode']\n",
        "plt.plot(Violet['V_cathode'],Violet['V_anode (d=0)'])"
      ],
      "execution_count": null,
      "outputs": [
        {
          "output_type": "execute_result",
          "data": {
            "text/plain": [
              "[<matplotlib.lines.Line2D at 0x7f3577fe2590>]"
            ]
          },
          "metadata": {},
          "execution_count": 41
        },
        {
          "output_type": "display_data",
          "data": {
            "image/png": "[encoded data removed]",
            "text/plain": [
              "<Figure size 432x288 with 1 Axes>"
            ]
          },
          "metadata": {
            "needs_background": "light"
          }
        }
      ]
    },
    {
      "cell_type": "markdown",
      "metadata": {
        "id": "LGDB-QML8h5l"
      },
      "source": [
        "**What should the labels be? y vs x**"
      ]
    },
    {
      "cell_type": "code",
      "metadata": {
        "colab": {
          "base_uri": "https://localhost:8080/",
          "height": 318
        },
        "id": "mXMMTuit8nC4",
        "outputId": "836d28e5-fd32-4040-99f4-775549aef7c2"
      },
      "source": [
        "plt.xlabel('Cathode Voltage (V)')\n",
        "plt.ylabel('Anode Voltage (mV)')\n",
        "plt.legend()"
      ],
      "execution_count": null,
      "outputs": [
        {
          "output_type": "stream",
          "name": "stderr",
          "text": [
            "No handles with labels found to put in legend.\n"
          ]
        },
        {
          "output_type": "execute_result",
          "data": {
            "text/plain": [
              "<matplotlib.legend.Legend at 0x7f3577f49990>"
            ]
          },
          "metadata": {},
          "execution_count": 42
        },
        {
          "output_type": "display_data",
          "data": {
            "image/png": "[encoded data removed]",
            "text/plain": [
              "<Figure size 432x288 with 1 Axes>"
            ]
          },
          "metadata": {
            "needs_background": "light"
          }
        }
      ]
    },
    {
      "cell_type": "markdown",
      "metadata": {
        "id": "w6XicKs-8pJZ"
      },
      "source": [
        "**Now, together**"
      ]
    },
    {
      "cell_type": "code",
      "metadata": {
        "colab": {
          "base_uri": "https://localhost:8080/",
          "height": 297
        },
        "id": "pmkFbmmk8suq",
        "outputId": "e721992c-6498-4110-872a-e4376ffa35f6"
      },
      "source": [
        "plt.plot(Violet['V_cathode'],Violet['V_anode (d=0)'], color =\"violet\",label = 'violet')\n",
        "plt.xlabel('Cathode Voltage (V)')\n",
        "plt.ylabel('Anode Voltage (mV)')\n",
        "plt.legend()"
      ],
      "execution_count": null,
      "outputs": [
        {
          "output_type": "execute_result",
          "data": {
            "text/plain": [
              "<matplotlib.legend.Legend at 0x7f3577f24450>"
            ]
          },
          "metadata": {},
          "execution_count": 43
        },
        {
          "output_type": "display_data",
          "data": {
            "image/png": "[encoded data removed]",
            "text/plain": [
              "<Figure size 432x288 with 1 Axes>"
            ]
          },
          "metadata": {
            "needs_background": "light"
          }
        }
      ]
    },
    {
      "cell_type": "code",
      "metadata": {
        "colab": {
          "base_uri": "https://localhost:8080/"
        },
        "id": "MNcS6D7e9yJM",
        "outputId": "af7a91ea-eaed-4eb9-9a33-1d47222aea55"
      },
      "source": [
        "Violet['V_cathode']"
      ],
      "execution_count": null,
      "outputs": [
        {
          "output_type": "execute_result",
          "data": {
            "text/plain": [
              "0     0.1\n",
              "1     0.2\n",
              "2     0.3\n",
              "3     0.4\n",
              "4     0.5\n",
              "5     0.6\n",
              "6     0.7\n",
              "7     0.8\n",
              "8     0.9\n",
              "9     1.0\n",
              "10    1.1\n",
              "11    1.2\n",
              "12    1.3\n",
              "13    1.4\n",
              "14    1.5\n",
              "15    1.6\n",
              "16    1.7\n",
              "17    1.8\n",
              "18    1.9\n",
              "19    2.0\n",
              "20    2.1\n",
              "21    2.2\n",
              "22    2.3\n",
              "23    2.4\n",
              "Name: V_cathode, dtype: float64"
            ]
          },
          "metadata": {},
          "execution_count": 44
        }
      ]
    },
    {
      "cell_type": "code",
      "metadata": {
        "colab": {
          "base_uri": "https://localhost:8080/"
        },
        "id": "v6B4PfgZ9FPT",
        "outputId": "59d3cdb5-61f2-4a05-89bb-be9e0d7b608d"
      },
      "source": [
        "np_array = Violet['V_cathode'].to_numpy()\n",
        "np_array"
      ],
      "execution_count": null,
      "outputs": [
        {
          "output_type": "execute_result",
          "data": {
            "text/plain": [
              "array([0.1, 0.2, 0.3, 0.4, 0.5, 0.6, 0.7, 0.8, 0.9, 1. , 1.1, 1.2, 1.3,\n",
              "       1.4, 1.5, 1.6, 1.7, 1.8, 1.9, 2. , 2.1, 2.2, 2.3, 2.4])"
            ]
          },
          "metadata": {},
          "execution_count": 45
        }
      ]
    },
    {
      "cell_type": "code",
      "metadata": {
        "colab": {
          "base_uri": "https://localhost:8080/"
        },
        "id": "qhCUMdr39XKV",
        "outputId": "008d1f49-d6d0-48eb-dbe0-b2744d608e74"
      },
      "source": [
        "sum = np.sum(Violet['V_cathode'])\n",
        "sum"
      ],
      "execution_count": null,
      "outputs": [
        {
          "output_type": "execute_result",
          "data": {
            "text/plain": [
              "30.000000000000004"
            ]
          },
          "metadata": {},
          "execution_count": 46
        }
      ]
    },
    {
      "cell_type": "code",
      "metadata": {
        "colab": {
          "base_uri": "https://localhost:8080/"
        },
        "id": "aMKjgUFd95wY",
        "outputId": "3b61b9a7-b5ff-499a-ea9c-608d97146b0c"
      },
      "source": [
        "sum = np.sum(np_array)\n",
        "sum"
      ],
      "execution_count": null,
      "outputs": [
        {
          "output_type": "execute_result",
          "data": {
            "text/plain": [
              "30.000000000000004"
            ]
          },
          "metadata": {},
          "execution_count": 47
        }
      ]
    },
    {
      "cell_type": "code",
      "metadata": {
        "colab": {
          "base_uri": "https://localhost:8080/"
        },
        "id": "kV_Wv5hULcRg",
        "outputId": "f48a4553-be04-4bfc-eaf1-ce43106477a0"
      },
      "source": [
        "sin = np.sin(Violet['V_cathode'])\n",
        "sin"
      ],
      "execution_count": null,
      "outputs": [
        {
          "output_type": "execute_result",
          "data": {
            "text/plain": [
              "0     0.099833\n",
              "1     0.198669\n",
              "2     0.295520\n",
              "3     0.389418\n",
              "4     0.479426\n",
              "5     0.564642\n",
              "6     0.644218\n",
              "7     0.717356\n",
              "8     0.783327\n",
              "9     0.841471\n",
              "10    0.891207\n",
              "11    0.932039\n",
              "12    0.963558\n",
              "13    0.985450\n",
              "14    0.997495\n",
              "15    0.999574\n",
              "16    0.991665\n",
              "17    0.973848\n",
              "18    0.946300\n",
              "19    0.909297\n",
              "20    0.863209\n",
              "21    0.808496\n",
              "22    0.745705\n",
              "23    0.675463\n",
              "Name: V_cathode, dtype: float64"
            ]
          },
          "metadata": {},
          "execution_count": 48
        }
      ]
    },
    {
      "cell_type": "code",
      "metadata": {
        "colab": {
          "base_uri": "https://localhost:8080/"
        },
        "id": "KWQwcCuPLPpX",
        "outputId": "07e4c4a7-f708-4354-ff60-1b4d24aa6e30"
      },
      "source": [
        "sin = np.sin(np_array)\n",
        "sin"
      ],
      "execution_count": null,
      "outputs": [
        {
          "output_type": "execute_result",
          "data": {
            "text/plain": [
              "array([0.09983342, 0.19866933, 0.29552021, 0.38941834, 0.47942554,\n",
              "       0.56464247, 0.64421769, 0.71735609, 0.78332691, 0.84147098,\n",
              "       0.89120736, 0.93203909, 0.96355819, 0.98544973, 0.99749499,\n",
              "       0.9995736 , 0.99166481, 0.97384763, 0.94630009, 0.90929743,\n",
              "       0.86320937, 0.8084964 , 0.74570521, 0.67546318])"
            ]
          },
          "metadata": {},
          "execution_count": 49
        }
      ]
    },
    {
      "cell_type": "markdown",
      "metadata": {
        "id": "3E_HiCz4_QZY"
      },
      "source": [
        "**Now, you have an numpy array or panda data frame, what can you do with it? what is training?**"
      ]
    },
    {
      "cell_type": "markdown",
      "metadata": {
        "id": "M__JuRTV-BXa"
      },
      "source": [
        "**How is data fitting related to ML? How is fitting a model similiar to prediction? How is it different than fitting a equation to this set of data?**"
      ]
    },
    {
      "cell_type": "code",
      "metadata": {
        "id": "z8w3T7x2MwlX"
      },
      "source": [
        "def calculate_theta(x) :\n",
        "  '''\n",
        "  Input:\n",
        "  x (array-like): Input values for heaviside step function\n",
        "\n",
        "  Output:\n",
        "  outputs (float) : 0 or 1 depending on input relative to threshold\n",
        "  '''\n",
        "\n",
        "  return np.heaviside(x,1)"
      ],
      "execution_count": null,
      "outputs": []
    },
    {
      "cell_type": "code",
      "metadata": {
        "id": "MwmZDBNPMiLY"
      },
      "source": [
        "def photo_current_model(v_cathode, a, b, c, v_stop, plot=True) :\n",
        "  ''' Model function to fit to for current, eqn. 2\n",
        "  Input:\n",
        "  v_cathode (array-like): Model independent values\n",
        "  a (float): parameter to fit\n",
        "  b (float): parameter to fit\n",
        "  c (float): parameter to fit\n",
        "  v_stop (float): parameter to fit, stopping voltage\n",
        "  '''\n",
        "  first_part = a*((v_stop - v_cathode)**3) * (calculate_theta(v_stop - v_cathode))\n",
        "  second_part = b*((v_stop - v_cathode)**4) * (calculate_theta(v_stop - v_cathode))\n",
        "  third_part = 1 + (c*(v_stop - v_cathode)**2) * (calculate_theta(v_stop - v_cathode))\n",
        "  iphoto = (first_part + second_part)/(third_part)\n",
        "  return iphoto"
      ],
      "execution_count": null,
      "outputs": []
    },
    {
      "cell_type": "code",
      "metadata": {
        "id": "Qe9gJIYoNAUH"
      },
      "source": [
        "def plot_iteration_of_fit(v_anode, v_cathode, v_fit, a, b, c,) :\n",
        "  ''' Plot to visualize fit as it happens\n",
        "  Input:\n",
        "  v_anode (array-like): Measured v_anode\n",
        "  v_cathode (array-like): Measured v_cathode\n",
        "  v_fit (array-like): Results of fit at some given iteration\n",
        "  '''\n",
        "  plt.scatter(v_cathode, v_anode, label='Data for no filter')\n",
        "  plt.plot(v_cathode, v_fit, label='Fit: a=%.2f,b=%.2f,c=%.2f'%(a,b,c))\n",
        "\n",
        "  plt.xlabel(\"Cathode potential in voltage\")\n",
        "  plt.ylabel(\"Anode potential in voltage\")\n",
        "  plt.legend()\n",
        "  plt.show()"
      ],
      "execution_count": null,
      "outputs": []
    },
    {
      "cell_type": "code",
      "metadata": {
        "id": "TNSj7JzKMnGO"
      },
      "source": [
        "best_guess = np.array([1,0.9,0.9,0.38]) # for a, b, c, v_stop\n",
        "params, params_covariance = opt.curve_fit(photo_current_model, Violet['V_cathode'], Violet['V_anode (d=0)'], p0 = best_guess)\n",
        "fit_errors = np.sqrt(np.diag(params_covariance))\n",
        "params1 = params"
      ],
      "execution_count": null,
      "outputs": []
    },
    {
      "cell_type": "code",
      "metadata": {
        "colab": {
          "base_uri": "https://localhost:8080/",
          "height": 279
        },
        "id": "jG5tT1FQMykW",
        "outputId": "b266890e-5624-491b-e898-5073bd025a39"
      },
      "source": [
        "fit1 = photo_current_model(Violet['V_cathode'],params1[-4],params1[-3],params1[-2],params1[-1],plot=True)\n",
        "plot_iteration_of_fit(Violet['V_anode (d=0)'],Violet['V_cathode'], fit1,params1[-4],params1[-3],params1[-2])"
      ],
      "execution_count": null,
      "outputs": [
        {
          "output_type": "display_data",
          "data": {
            "image/png": "[encoded data removed]",
            "text/plain": [
              "<Figure size 432x288 with 1 Axes>"
            ]
          },
          "metadata": {
            "needs_background": "light"
          }
        }
      ]
    }
  ]
}