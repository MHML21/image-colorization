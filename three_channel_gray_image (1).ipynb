{
  "nbformat": 4,
  "nbformat_minor": 0,
  "metadata": {
    "colab": {
      "name": "three channel gray image.ipynb",
      "provenance": [],
      "collapsed_sections": []
    },
    "kernelspec": {
      "display_name": "Python 3",
      "name": "python3"
    },
    "language_info": {
      "name": "python"
    }
  },
  "cells": [
    {
      "cell_type": "code",
      "metadata": {
        "id": "GuuB9ypL-Buq"
      },
      "source": [
        "# this is the librarys needed for the read in of the data, our goal is to read in colored images and \n",
        "# and turn them into black and white photos \n",
        "# inorder to do that, we are going to use opensource computer vision library\n",
        "\n",
        "\n",
        "\n",
        "import cv2\n",
        "import numpy as np\n",
        "import matplotlib.pyplot as plt\n",
        "import seaborn as sns; sns.set()\n",
        "# Keras is an open-source software library that provides a Python interface for artificial neural networks.\n",
        "# cifar is a set of 32 X 32 pixel images from the keras's dataset, and we are going to import the images\n",
        "from keras.datasets import cifar10\n",
        "from tensorflow.keras.models import Sequential\n",
        "import tensorflow as tf\n",
        "\n",
        "from tensorflow.keras.layers import Dense, Conv2D, MaxPool2D, Dropout,Flatten\n",
        "from tensorflow.keras.datasets import cifar10"
      ],
      "execution_count": null,
      "outputs": []
    },
    {
      "cell_type": "code",
      "metadata": {
        "id": "0TzgpGgV-H0X",
        "colab": {
          "base_uri": "https://localhost:8080/"
        },
        "outputId": "9bf34fa5-e6c8-4267-8c51-cf0aebf26572"
      },
      "source": [
        "(X_train,y_train),(X_test, y_test) = cifar10.load_data()"
      ],
      "execution_count": null,
      "outputs": [
        {
          "output_type": "stream",
          "name": "stdout",
          "text": [
            "Downloading data from https://www.cs.toronto.edu/~kriz/cifar-10-python.tar.gz\n",
            "170500096/170498071 [==============================] - 2s 0us/step\n",
            "170508288/170498071 [==============================] - 2s 0us/step\n"
          ]
        }
      ]
    },
    {
      "cell_type": "code",
      "metadata": {
        "id": "9h_aoeul-KTK"
      },
      "source": [
        "labels = ['airplane','automobile', 'bird', 'cat', 'deer', 'dog','frog', 'horse','ship','truck']"
      ],
      "execution_count": null,
      "outputs": []
    },
    {
      "cell_type": "code",
      "metadata": {
        "id": "Ufw_TBkVMDok"
      },
      "source": [
        "X_train_gray = np.array([cv2.cvtColor(image, cv2.COLOR_BGR2GRAY) for image in X_train])\n",
        "X_test = np.array([cv2.cvtColor(image, cv2.COLOR_BGR2GRAY) for image in X_test])"
      ],
      "execution_count": null,
      "outputs": []
    },
    {
      "cell_type": "code",
      "metadata": {
        "id": "LqGJ3Tnv-sET"
      },
      "source": [
        "X_train_gray = X_train_gray/255\n",
        "X_train = X_train/255\n",
        "X_train_gray = tf.reshape(X_train_gray, [50000, 32, 32, 1])\n",
        "X_train = tf.reshape(X_train,[50000, 32, 32, 3])"
      ],
      "execution_count": null,
      "outputs": []
    },
    {
      "cell_type": "code",
      "metadata": {
        "colab": {
          "base_uri": "https://localhost:8080/"
        },
        "id": "XltZHoShPuc0",
        "outputId": "9f5674de-8e73-4ef9-ab75-2c4b1dc49270"
      },
      "source": [
        "print((X_train.shape))\n",
        "y_train_gray_three_channel = np.zeros_like(X_train)\n",
        "y_train_gray_three_channel[:,:,:,0] = X_train[:,:,:,0]\n",
        "y_train_gray_three_channel[:,:,:,1] = X_train[:,:,:,0]\n",
        "y_train_gray_three_channel[:,:,:,2] = X_train[:,:,:,0]\n",
        "print(y_train_gray_three_channel.shape)"
      ],
      "execution_count": null,
      "outputs": [
        {
          "output_type": "stream",
          "name": "stdout",
          "text": [
            "(50000, 32, 32, 3)\n",
            "(50000, 32, 32, 3)\n"
          ]
        }
      ]
    },
    {
      "cell_type": "code",
      "metadata": {
        "colab": {
          "base_uri": "https://localhost:8080/",
          "height": 235
        },
        "id": "O92qULtdWODN",
        "outputId": "3fbe85a4-5d3a-4d84-ffa0-f5fd2499aa7c"
      },
      "source": [
        ""
      ],
      "execution_count": null,
      "outputs": [
        {
          "output_type": "error",
          "ename": "TypeError",
          "evalue": "ignored",
          "traceback": [
            "\u001b[0;31m---------------------------------------------------------------------------\u001b[0m",
            "\u001b[0;31mTypeError\u001b[0m                                 Traceback (most recent call last)",
            "\u001b[0;32m<ipython-input-7-f2ae9d3e1030>\u001b[0m in \u001b[0;36m<module>\u001b[0;34m()\u001b[0m\n\u001b[1;32m      1\u001b[0m \u001b[0;31m# number of classes\u001b[0m\u001b[0;34m\u001b[0m\u001b[0;34m\u001b[0m\u001b[0;34m\u001b[0m\u001b[0m\n\u001b[0;32m----> 2\u001b[0;31m \u001b[0mK\u001b[0m \u001b[0;34m=\u001b[0m \u001b[0mlen\u001b[0m\u001b[0;34m(\u001b[0m\u001b[0mset\u001b[0m\u001b[0;34m(\u001b[0m\u001b[0my_train\u001b[0m\u001b[0;34m)\u001b[0m\u001b[0;34m)\u001b[0m\u001b[0;34m\u001b[0m\u001b[0;34m\u001b[0m\u001b[0m\n\u001b[0m\u001b[1;32m      3\u001b[0m \u001b[0;34m\u001b[0m\u001b[0m\n\u001b[1;32m      4\u001b[0m \u001b[0;31m# calculate total number of classes\u001b[0m\u001b[0;34m\u001b[0m\u001b[0;34m\u001b[0m\u001b[0;34m\u001b[0m\u001b[0m\n\u001b[1;32m      5\u001b[0m \u001b[0;31m# for output layer\u001b[0m\u001b[0;34m\u001b[0m\u001b[0;34m\u001b[0m\u001b[0;34m\u001b[0m\u001b[0m\n",
            "\u001b[0;31mTypeError\u001b[0m: unhashable type: 'numpy.ndarray'"
          ]
        }
      ]
    },
    {
      "cell_type": "code",
      "metadata": {
        "id": "m-okFtIPWJac"
      },
      "source": [
        "model.compile(optimizer='adam',\n",
        "              loss='L2',\n",
        "              metrics=['accuracy'])"
      ],
      "execution_count": null,
      "outputs": []
    },
    {
      "cell_type": "code",
      "metadata": {
        "id": "6pXUzf84WK4k"
      },
      "source": [
        "# Fit\n",
        "r = model.fit(\n",
        "  X_train, y_train_gray_three_channel, epochs=50)"
      ],
      "execution_count": null,
      "outputs": []
    }
  ]
}