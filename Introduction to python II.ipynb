{
 "cells": [
  {
   "cell_type": "code",
   "execution_count": null,
   "metadata": {
    "id": "YcTmgqi8rI5H"
   },
   "outputs": [],
   "source": [
    "# before going on, lets try accessing a variable defined previously\n",
    "print(x)"
   ]
  },
  {
   "cell_type": "code",
   "execution_count": null,
   "metadata": {
    "id": "TFFPktx9rP4F"
   },
   "outputs": [],
   "source": []
  },
  {
   "cell_type": "markdown",
   "metadata": {
    "id": "6OLf7ATHq9_q"
   },
   "source": [
    "# Flow control\n",
    "\n"
   ]
  },
  {
   "cell_type": "markdown",
   "metadata": {
    "id": "y2r1S4yprr_c"
   },
   "source": [
    "if statement"
   ]
  },
  {
   "cell_type": "code",
   "execution_count": null,
   "metadata": {
    "id": "4GiTNTfarpNz"
   },
   "outputs": [],
   "source": [
    "x = int(input(\"How old are you? \"))\n",
    "if x>30:\n",
    "  print(\"It's all downhill from here, baby.\")\n"
   ]
  },
  {
   "cell_type": "code",
   "execution_count": null,
   "metadata": {
    "id": "HxXCBJU2sGYl"
   },
   "outputs": [],
   "source": [
    "x = int(input(\"How old are you? \"))\n",
    "if x>30:\n",
    "  print(\"It's all downhill from here, baby.\")\n",
    "else:\n",
    "  print(\"That is a great age to be.\")"
   ]
  },
  {
   "cell_type": "code",
   "execution_count": null,
   "metadata": {
    "id": "9pmjEoUlsshz"
   },
   "outputs": [],
   "source": [
    "\n",
    "if x>30:\n",
    "  print(\"It's all downhill from here, baby.\")\n",
    "elif x<17:\n",
    "  print(\"You must be a genius to be so young and in college!\")\n",
    "else:\n",
    "  print(\"That is a great age to be.\")"
   ]
  },
  {
   "cell_type": "code",
   "execution_count": null,
   "metadata": {
    "id": "dYDn2KzvtNrf"
   },
   "outputs": [],
   "source": [
    "x = int(input(\"How old are you? \"))\n",
    "if x>30 and x<50:\n",
    "  print(\"It's all downhill from here, baby.\")\n",
    "elif x<17:\n",
    "  print(\"You must be a genius to be so young and in college!\")\n",
    "elif x>50:\n",
    "  print(\"My condolences.\")\n",
    "else:\n",
    "  print(\"That is a great age to be.\")"
   ]
  },
  {
   "cell_type": "code",
   "execution_count": null,
   "metadata": {
    "id": "hqU-gZBgtzYO"
   },
   "outputs": [],
   "source": [
    "x = int(input(\"How old are you? \"))\n",
    "if (x>30 and x<50) or (x<16):\n",
    "  print(\":(\")\n",
    "else:\n",
    "    print(\":)\")\n"
   ]
  },
  {
   "cell_type": "code",
   "execution_count": null,
   "metadata": {
    "id": "0tALXFLFudTT"
   },
   "outputs": [],
   "source": []
  },
  {
   "cell_type": "markdown",
   "metadata": {
    "id": "kyLLNOs7uyKD"
   },
   "source": [
    "For statement"
   ]
  },
  {
   "cell_type": "code",
   "execution_count": null,
   "metadata": {
    "id": "-_Bjb2VYuzzD"
   },
   "outputs": [],
   "source": [
    "# for loop\n",
    "for k in range(6):  \n",
    "  print(k) "
   ]
  },
  {
   "cell_type": "code",
   "execution_count": null,
   "metadata": {
    "id": "D9qcwVZXvIOC"
   },
   "outputs": [],
   "source": [
    "n=range(1,6,2)\n",
    "for k in n:  \n",
    "  print(k) "
   ]
  },
  {
   "cell_type": "code",
   "execution_count": null,
   "metadata": {
    "id": "3zkrXkQmwUV9"
   },
   "outputs": [],
   "source": [
    "# nested loops\n",
    "for j in range(5):\n",
    "  for k in range(4):\n",
    "    print(j,k,sep=\",\")"
   ]
  },
  {
   "cell_type": "code",
   "execution_count": null,
   "metadata": {
    "id": "HNJuEaCvwm44"
   },
   "outputs": [],
   "source": []
  }
 ],
 "metadata": {
  "colab": {
   "authorship_tag": "ABX9TyPo1LU+NpuKP6upMZD5Yvui",
   "collapsed_sections": [],
   "name": "Introduction to python II.ipynb",
   "provenance": []
  },
  "kernelspec": {
   "display_name": "Python 3 (ipykernel)",
   "language": "python",
   "name": "python3"
  },
  "language_info": {
   "codemirror_mode": {
    "name": "ipython",
    "version": 3
   },
   "file_extension": ".py",
   "mimetype": "text/x-python",
   "name": "python",
   "nbconvert_exporter": "python",
   "pygments_lexer": "ipython3",
   "version": "3.9.6"
  }
 },
 "nbformat": 4,
 "nbformat_minor": 1
}
